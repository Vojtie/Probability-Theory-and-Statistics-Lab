{
 "cells": [
  {
   "cell_type": "code",
   "execution_count": null,
   "outputs": [],
   "source": [
    "# Wojciech Kuzebski RPiS zad zal 4\n",
    "import numpy as np\n",
    "import scipy.stats\n",
    "# Rows: women, men\n",
    "# Columns: PiS, PO, Kukiz, Nowoczesna, Lewica, PSL, Razem, KORWiN\n",
    "#data = np.array([ [39.7,26.4,7.5,7.1,6.6,5.0,4.2,2.8],\n",
    "#                  [38.5,20.3,10.6,7.1,6.6,5.4,3.5,7.1]])\n",
    "data = np.array([[ 17508, 11642,  3308,  3131,  2911,  2205,  1852, 1235],\n",
    " [ 17672,  9318,  4865,  3259,  3029,  2479,  1606, 3259]])\n",
    "\n",
    "TH = 1 / 20\n",
    "\n",
    "def compute_term(r_i, c_i, n, x_ij):\n",
    "    f_ij = r_i * c_i / n\n",
    "    return ((f_ij - x_ij) ** 2) / f_ij\n",
    "\n",
    "def answer_independence(data):\n",
    "    row_totals = np.sum(data, axis=1)\n",
    "    col_totals = np.sum(data, axis=0)\n",
    "    n_total = np.sum(data)\n",
    "    s = sum(sum(compute_term(row_totals[i], col_totals[j], n_total, data[i][j])\n",
    "        for i in range(len(data))) for j in range(len(data[0])))\n",
    "\n",
    "    res = 1 - scipy.stats.chi2.cdf(s, (len(data) - 1) * (len(data[0]) - 1))\n",
    "    if res < TH:\n",
    "        print(\"Depending on the analysis that assumption cannot be made\")\n",
    "    else:\n",
    "        print(\"Depending on the analysis we can make that assumption\")\n",
    "\n",
    "\n",
    "\n",
    "print(\"Let's see if we can assume that gender has no effect on voting preferences:\")\n",
    "answer_independence(data)\n",
    "\n",
    "print(\"Now let's check the same hypothesis but excluding KORWiN party from the data:\")\n",
    "answer_independence(data[:, : -1])"
   ],
   "metadata": {
    "collapsed": false,
    "pycharm": {
     "name": "#%%\n"
    }
   }
  }
 ],
 "metadata": {
  "kernelspec": {
   "display_name": "Python 3",
   "language": "python",
   "name": "python3"
  },
  "language_info": {
   "codemirror_mode": {
    "name": "ipython",
    "version": 2
   },
   "file_extension": ".py",
   "mimetype": "text/x-python",
   "name": "python",
   "nbconvert_exporter": "python",
   "pygments_lexer": "ipython2",
   "version": "2.7.6"
  }
 },
 "nbformat": 4,
 "nbformat_minor": 0
}