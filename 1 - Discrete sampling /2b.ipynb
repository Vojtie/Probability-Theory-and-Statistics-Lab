{
 "cells": [
  {
   "cell_type": "code",
   "execution_count": 4,
   "id": "aba34d59",
   "metadata": {},
   "outputs": [
    {
     "data": {
      "image/png": "[encoded data removed]",
      "text/plain": [
       "<Figure size 720x432 with 1 Axes>"
      ]
     },
     "metadata": {
      "needs_background": "light"
     },
     "output_type": "display_data"
    },
    {
     "name": "stdout",
     "output_type": "stream",
     "text": [
      "Couple first most likely values: [20 22 18 19 21 23 16 17 15 24]\n",
      "Average value using numpy: 23.58438\n",
      "CPU times: user 676 ms, sys: 35.5 ms, total: 712 ms\n",
      "Wall time: 559 ms\n"
     ]
    }
   ],
   "source": [
    "%%time\n",
    "# 3.12.2021\n",
    "# Wojciech Kuzebski wk429552\n",
    "#    RPiS Laboratorium\n",
    "# Zadanie zaliczeniowe 1 - 2b\n",
    "\n",
    "import numpy as np\n",
    "import matplotlib.pyplot as plt\n",
    "\n",
    "N = 100_000\n",
    "M = 30 * N\n",
    "\n",
    "stats = np.loadtxt('us_births_69_88.csv', skiprows=1, delimiter=',', dtype=int)\n",
    "\n",
    "def emp_dates(samples, n):\n",
    "    s = set()\n",
    "    dates = []\n",
    "    size = 0\n",
    "    k = 0\n",
    "    for day in samples:\n",
    "        if day in s:\n",
    "            dates.append(k)\n",
    "            k = 0\n",
    "            size += 1\n",
    "            if size == n:\n",
    "                break\n",
    "            s.clear()\n",
    "        else:\n",
    "            k += 1\n",
    "            s.add(day)\n",
    "    return dates\n",
    "\n",
    "\n",
    "counts = stats[:, 2]\n",
    "days = np.random.randint(0, counts.shape[0] - 1, size=M)\n",
    "ks = np.random.randint(1, np.max(counts), size=M)\n",
    "sample = days[np.where(ks <= counts[days])]\n",
    "emp_sample = emp_dates(sample, N)\n",
    "\n",
    "assert len(emp_sample) == N\n",
    "\n",
    "plt.figure(figsize=(10, 6))\n",
    "plt.title('using numpy')\n",
    "plt.hist(emp_sample, bins=range(1, 101))\n",
    "plt.show()\n",
    "\n",
    "# calcultating most probable values using numpy\n",
    "vals, counts = np.unique(emp_sample, return_counts=True)\n",
    "k_counts_numpy = vals[np.argsort(counts)][::-1]\n",
    "\n",
    "print('Couple first most likely values: {}'.format(k_counts_numpy[:10]))\n",
    "print('Average value using numpy: {}'.format(np.mean(emp_sample)))"
   ]
  },
  {
   "cell_type": "code",
   "execution_count": 3,
   "id": "cfbb4ea9",
   "metadata": {},
   "outputs": [],
   "source": []
  },
  {
   "cell_type": "code",
   "execution_count": 3,
   "id": "41bda4b0",
   "metadata": {},
   "outputs": [],
   "source": []
  }
 ],
 "metadata": {
  "kernelspec": {
   "display_name": "Python 3 (ipykernel)",
   "language": "python",
   "name": "python3"
  },
  "language_info": {
   "codemirror_mode": {
    "name": "ipython",
    "version": 3
   },
   "file_extension": ".py",
   "mimetype": "text/x-python",
   "name": "python",
   "nbconvert_exporter": "python",
   "pygments_lexer": "ipython3",
   "version": "3.10.0"
  }
 },
 "nbformat": 4,
 "nbformat_minor": 5
}
